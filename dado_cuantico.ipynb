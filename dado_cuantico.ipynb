{
 "cells": [
  {
   "cell_type": "code",
   "source": [
    "# Instala las dependencias necesarias para Qiskit\n",
    "!pip install qiskit qiskit-aer matplotlib"
   ],
   "metadata": {},
   "execution_count": null,
   "outputs": []
  },
  {
   "cell_type": "markdown",
   "source": [
    "### Dado Cuántico Interactivo (versión Jupyter Notebook)\n",
    "Este notebook implementa un dado cuántico utilizando Qiskit.\n",
    "\n",
    "El circuito utiliza 3 qubits en superposición, midiendo su colapso\n",
    "para obtener un número entre 1 y 6.\n",
    "\n",
    "Autor: Ing. Carlos Alfonso Garcia Gonzales  \n",
    "CIP 199025 – Ingeniero Informático"
   ],
   "metadata": {}
  },
  {
   "cell_type": "code",
   "source": [
    "from qiskit import QuantumCircuit, transpile\n",
    "from qiskit_aer import Aer\n",
    "\n",
    "# Crear circuito con 3 qubits y 3 bits clásicos\n",
    "qc = QuantumCircuit(3, 3)\n",
    "\n",
    "# Aplicar puertas Hadamard a los 3 qubits para crear superposición\n",
    "qc.h([0, 1, 2])\n",
    "\n",
    "# Medir cada qubit en su respectivo bit clásico\n",
    "qc.measure([0, 1, 2], [0, 1, 2])"
   ],
   "metadata": {},
   "execution_count": null,
   "outputs": []
  },
  {
   "cell_type": "code",
   "source": [
    "# Preparar simulador cuántico\n",
    "sim = Aer.get_backend('qasm_simulator')\n",
    "\n",
    "# Transpilar circuito para el backend seleccionado\n",
    "compiled = transpile(qc, sim)\n",
    "\n",
    "# Ejecutar el circuito hasta obtener un número válido (0-5)\n",
    "while True:\n",
    "    job = sim.run(compiled, shots=1)\n",
    "    result = job.result()\n",
    "    bit_string = list(result.get_counts().keys())[0]\n",
    "    number = int(bit_string, 2)\n",
    "    if number < 6:\n",
    "        break"
   ],
   "metadata": {},
   "execution_count": null,
   "outputs": []
  },
  {
   "cell_type": "code",
   "source": [
    "# Mostrar el resultado del dado cuántico\n",
    "print(\"==============================\")\n",
    "print(\"   🎲 DADO CUÁNTICO 🎲\")\n",
    "print(f\"   Resultado: {number + 1}\")\n",
    "print(\"==============================\")"
   ],
   "metadata": {},
   "execution_count": null,
   "outputs": []
  },
  {
   "cell_type": "code",
   "source": [
    "# Visualizar el circuito\n",
    "qc.draw('mpl')"
   ],
   "metadata": {},
   "execution_count": null,
   "outputs": []
  }
 ],
 "metadata": {
  "kernelspec": {
   "display_name": "Python 3",
   "language": "python",
   "name": "python3"
  },
  "language_info": {
   "name": "python"
  }
 },
 "nbformat": 4,
 "nbformat_minor": 5
}